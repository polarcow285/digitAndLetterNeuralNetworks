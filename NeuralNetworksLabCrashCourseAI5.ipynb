{
 "cells": [
  {
   "cell_type": "code",
   "execution_count": 3,
   "id": "0db7ead0",
   "metadata": {},
   "outputs": [
    {
     "name": "stdout",
     "output_type": "stream",
     "text": [
      "fatal: destination path 'python-mnist' already exists and is not an empty directory.\n",
      "./python-mnist/bin/mnist_get_data.sh: line 9: wget: command not found\n",
      "~/development/data ~/development\n",
      "gunzip: can't stat: * (*.gz): No such file or directory\n",
      "~/development\n",
      "Collecting emnist\n",
      "  Downloading emnist-0.0-py3-none-any.whl (7.3 kB)\n",
      "Requirement already satisfied: tqdm in /Users/natalieleung/opt/anaconda3/lib/python3.9/site-packages (from emnist) (4.62.3)\n",
      "Requirement already satisfied: requests in /Users/natalieleung/opt/anaconda3/lib/python3.9/site-packages (from emnist) (2.26.0)\n",
      "Requirement already satisfied: numpy in /Users/natalieleung/opt/anaconda3/lib/python3.9/site-packages (from emnist) (1.20.3)\n",
      "Requirement already satisfied: idna<4,>=2.5 in /Users/natalieleung/opt/anaconda3/lib/python3.9/site-packages (from requests->emnist) (3.2)\n",
      "Requirement already satisfied: charset-normalizer~=2.0.0 in /Users/natalieleung/opt/anaconda3/lib/python3.9/site-packages (from requests->emnist) (2.0.4)\n",
      "Requirement already satisfied: urllib3<1.27,>=1.21.1 in /Users/natalieleung/opt/anaconda3/lib/python3.9/site-packages (from requests->emnist) (1.26.7)\n",
      "Requirement already satisfied: certifi>=2017.4.17 in /Users/natalieleung/opt/anaconda3/lib/python3.9/site-packages (from requests->emnist) (2021.10.8)\n",
      "Installing collected packages: emnist\n",
      "Successfully installed emnist-0.0\n",
      "Imported the EMNIST libraries we need!\n"
     ]
    }
   ],
   "source": [
    "!git clone https://github.com/sorki/python-mnist\n",
    "!./python-mnist/bin/mnist_get_data.sh\n",
    "!pip3 install emnist\n",
    "from emnist import extract_training_samples\n",
    "\n",
    "print(\"Imported the EMNIST libraries we need!\")"
   ]
  },
  {
   "cell_type": "code",
   "execution_count": 4,
   "id": "7974271b",
   "metadata": {},
   "outputs": [
    {
     "name": "stderr",
     "output_type": "stream",
     "text": [
      "Downloading emnist.zip: 536MB [00:20, 27.6MB/s]                                 \n"
     ]
    },
    {
     "name": "stdout",
     "output_type": "stream",
     "text": [
      "Extracted our samples and divided our training and testing data sets\n"
     ]
    }
   ],
   "source": [
    "# Grab the data from the OpenML website\n",
    "# X will be our images and y will be the labels\n",
    "X, y = extract_training_samples('letters')\n",
    "\n",
    "# Make sure that every pixel in all of the images is a value between 0 and 1\n",
    "X = X / 255.\n",
    "\n",
    "# Use the first 60000 instances as training and the next 10000 as testing\n",
    "X_train, X_test = X[:60000], X[60000:70000]\n",
    "y_train, y_test = y[:60000], y[60000:70000]\n",
    "\n",
    "# There is one other thing we need to do, we need to\n",
    "# record the number of samples in each dataset and the number of pixels in each image\n",
    "X_train = X_train.reshape(60000,784)\n",
    "X_test = X_test.reshape(10000,784)\n",
    "\n",
    "print(\"Extracted our samples and divided our training and testing data sets\")"
   ]
  },
  {
   "cell_type": "code",
   "execution_count": 11,
   "id": "6596ea0b",
   "metadata": {},
   "outputs": [
    {
     "name": "stdout",
     "output_type": "stream",
     "text": [
      "Image Label: d\n"
     ]
    },
    {
     "data": {
      "text/plain": [
       "<matplotlib.image.AxesImage at 0x7fe5da5a70d0>"
      ]
     },
     "execution_count": 11,
     "metadata": {},
     "output_type": "execute_result"
    },
    {
     "data": {
      "image/png": "[encoded data removed]",
      "text/plain": [
       "<Figure size 432x288 with 1 Axes>"
      ]
     },
     "metadata": {
      "needs_background": "light"
     },
     "output_type": "display_data"
    }
   ],
   "source": [
    "import matplotlib.pyplot as plt\n",
    "\n",
    "img_index = 59999 # <<<<<  You can update this value to look at other images\n",
    "img = X_train[img_index]\n",
    "print(\"Image Label: \" + str(chr(y_train[img_index]+96)))\n",
    "plt.imshow(img.reshape((28,28)))"
   ]
  },
  {
   "cell_type": "code",
   "execution_count": 14,
   "id": "21414ff7",
   "metadata": {},
   "outputs": [
    {
     "name": "stdout",
     "output_type": "stream",
     "text": [
      "Created our first MLP network\n"
     ]
    }
   ],
   "source": [
    "# STEP 2.1\n",
    "\n",
    "# These two lines import the ML libraries we need\n",
    "from sklearn.datasets import fetch_openml\n",
    "from sklearn.neural_network import MLPClassifier\n",
    "\n",
    "# This creates our first MLP with 1 hidden layer with 50 neurons and sets it to run through the data 20 times\n",
    "mlp1 = MLPClassifier(hidden_layer_sizes=(50,), max_iter=30, alpha=1e-4,\n",
    "                    solver='sgd', verbose=10, tol=1e-4, random_state=1,\n",
    "                    learning_rate_init=.1)\n",
    "\n",
    "print(\"Created our first MLP network\")"
   ]
  },
  {
   "cell_type": "code",
   "execution_count": 15,
   "id": "e00c5ee8",
   "metadata": {},
   "outputs": [
    {
     "name": "stdout",
     "output_type": "stream",
     "text": [
      "Iteration 1, loss = 1.06351395\n",
      "Iteration 2, loss = 0.64844650\n",
      "Iteration 3, loss = 0.56103245\n",
      "Iteration 4, loss = 0.51987725\n",
      "Iteration 5, loss = 0.49182099\n",
      "Iteration 6, loss = 0.47301057\n",
      "Iteration 7, loss = 0.45839220\n",
      "Iteration 8, loss = 0.44603836\n",
      "Iteration 9, loss = 0.43479721\n",
      "Iteration 10, loss = 0.42809575\n",
      "Iteration 11, loss = 0.41639233\n",
      "Iteration 12, loss = 0.40782908\n",
      "Iteration 13, loss = 0.40548360\n",
      "Iteration 14, loss = 0.39965983\n",
      "Iteration 15, loss = 0.39296832\n",
      "Iteration 16, loss = 0.38883219\n",
      "Iteration 17, loss = 0.38393955\n",
      "Iteration 18, loss = 0.37948343\n",
      "Iteration 19, loss = 0.37307616\n",
      "Iteration 20, loss = 0.37166732\n",
      "Iteration 21, loss = 0.36703635\n",
      "Iteration 22, loss = 0.36357559\n",
      "Iteration 23, loss = 0.36073798\n",
      "Iteration 24, loss = 0.35711691\n",
      "Iteration 25, loss = 0.35309283\n",
      "Iteration 26, loss = 0.34784002\n",
      "Iteration 27, loss = 0.34588190\n",
      "Iteration 28, loss = 0.34274738\n",
      "Iteration 29, loss = 0.33743685\n",
      "Iteration 30, loss = 0.33963232\n",
      "Training set score: 0.897100\n",
      "Test set score: 0.841400\n"
     ]
    },
    {
     "name": "stderr",
     "output_type": "stream",
     "text": [
      "/Users/natalieleung/opt/anaconda3/lib/python3.9/site-packages/sklearn/neural_network/_multilayer_perceptron.py:614: ConvergenceWarning: Stochastic Optimizer: Maximum iterations (30) reached and the optimization hasn't converged yet.\n",
      "  warnings.warn(\n"
     ]
    }
   ],
   "source": [
    "mlp1.fit(X_train, y_train)\n",
    "print(\"Training set score: %f\" % mlp1.score(X_train, y_train))\n",
    "print(\"Test set score: %f\" % mlp1.score(X_test, y_test))"
   ]
  },
  {
   "cell_type": "code",
   "execution_count": 16,
   "id": "ceb3d726",
   "metadata": {},
   "outputs": [
    {
     "data": {
      "text/plain": [
       "<matplotlib.image.AxesImage at 0x7fe5f83f1790>"
      ]
     },
     "execution_count": 16,
     "metadata": {},
     "output_type": "execute_result"
    },
    {
     "data": {
      "image/png": "[encoded data removed]",
      "text/plain": [
       "<Figure size 288x288 with 1 Axes>"
      ]
     },
     "metadata": {
      "needs_background": "light"
     },
     "output_type": "display_data"
    }
   ],
   "source": [
    "# STEP 3.2\n",
    "\n",
    "# First let's initialize a list with all the predicted values from the training set\n",
    "y_pred = mlp1.predict(X_test)\n",
    "\n",
    "# Now let's visualize the errors between the predictions and the actual labels using a confusion matrix\n",
    "from sklearn.metrics import confusion_matrix\n",
    "cm = confusion_matrix(y_test, y_pred)\n",
    "plt.matshow(cm)"
   ]
  },
  {
   "cell_type": "code",
   "execution_count": 18,
   "id": "b576d51a",
   "metadata": {},
   "outputs": [
    {
     "name": "stdout",
     "output_type": "stream",
     "text": [
      "There were 9 times that the letter n was predicted to be the letter m.\n"
     ]
    },
    {
     "data": {
      "image/png": "[encoded data removed]",
      "text/plain": [
       "<Figure size 432x288 with 1 Axes>"
      ]
     },
     "metadata": {
      "needs_background": "light"
     },
     "output_type": "display_data"
    }
   ],
   "source": [
    "# STEP 3.3\n",
    "\n",
    "# You can change this to any letters that you think the neural network may have confused...\n",
    "predicted_letter = 'm'\n",
    "actual_letter = 'n'\n",
    "\n",
    "\n",
    "# This code counts all mistakes for the letters above\n",
    "mistake_list = []\n",
    "for i in range(len(y_test)):\n",
    "  if (y_test[i] == (ord(actual_letter) - 96) and y_pred[i] == (ord(predicted_letter) - 96)):\n",
    "    mistake_list.append(i)\n",
    "print(\"There were \" + str(len(mistake_list)) + \" times that the letter \" + actual_letter + \" was predicted to be the letter \" + predicted_letter + \".\")\n",
    "\n",
    "# Once we know how many mistakes were made, we can change this to see an image of a particular one\n",
    "mistake_to_show = 4 # <<< e.g., change this to 3 if you want to see the 4th mistake\n",
    "\n",
    "# This code checks that the number mistake you asked for can be shown and if so, displays an image of it\n",
    "if (len(mistake_list)> mistake_to_show):\n",
    "  img = X_test[mistake_list[mistake_to_show]]\n",
    "  plt.imshow(img.reshape((28,28)))\n",
    "else:\n",
    "  print(\"Couldn't show mistake number \" + str(mistake_to_show + 1) + \" because there were only \" + str(len(mistake_list)) + \" mistakes to show!\")"
   ]
  },
  {
   "cell_type": "code",
   "execution_count": 19,
   "id": "e789af43",
   "metadata": {},
   "outputs": [
    {
     "name": "stdout",
     "output_type": "stream",
     "text": [
      "Iteration 1, loss = 1.15599672\n",
      "Iteration 2, loss = 0.54834774\n",
      "Iteration 3, loss = 0.44784035\n",
      "Iteration 4, loss = 0.39865207\n",
      "Iteration 5, loss = 0.36308811\n",
      "Iteration 6, loss = 0.33567397\n",
      "Iteration 7, loss = 0.31904877\n",
      "Iteration 8, loss = 0.29485588\n",
      "Iteration 9, loss = 0.27846574\n",
      "Iteration 10, loss = 0.26938228\n",
      "Iteration 11, loss = 0.25802023\n",
      "Iteration 12, loss = 0.25788282\n",
      "Iteration 13, loss = 0.24761577\n",
      "Iteration 14, loss = 0.23721596\n",
      "Iteration 15, loss = 0.23420416\n",
      "Iteration 16, loss = 0.22785533\n",
      "Iteration 17, loss = 0.21958147\n",
      "Iteration 18, loss = 0.22056595\n",
      "Iteration 19, loss = 0.21863622\n",
      "Iteration 20, loss = 0.20322080\n",
      "Iteration 21, loss = 0.20956603\n",
      "Iteration 22, loss = 0.20600221\n",
      "Iteration 23, loss = 0.19503587\n",
      "Iteration 24, loss = 0.19667913\n",
      "Iteration 25, loss = 0.19624233\n",
      "Iteration 26, loss = 0.20038150\n",
      "Iteration 27, loss = 0.19274403\n",
      "Iteration 28, loss = 0.19204916\n",
      "Iteration 29, loss = 0.19471375\n",
      "Iteration 30, loss = 0.18812517\n",
      "Iteration 31, loss = 0.19065674\n",
      "Iteration 32, loss = 0.18744136\n",
      "Iteration 33, loss = 0.18441887\n",
      "Iteration 34, loss = 0.18770475\n",
      "Iteration 35, loss = 0.16998377\n",
      "Iteration 36, loss = 0.17537792\n",
      "Iteration 37, loss = 0.17590841\n",
      "Iteration 38, loss = 0.17520020\n",
      "Iteration 39, loss = 0.17779158\n",
      "Iteration 40, loss = 0.18146909\n",
      "Iteration 41, loss = 0.18933850\n",
      "Iteration 42, loss = 0.17403480\n",
      "Iteration 43, loss = 0.17358465\n",
      "Iteration 44, loss = 0.17247047\n",
      "Iteration 45, loss = 0.17154258\n",
      "Iteration 46, loss = 0.18549485\n",
      "Training loss did not improve more than tol=0.000100 for 10 consecutive epochs. Stopping.\n",
      "Training set score: 0.938033\n",
      "Test set score: 0.885800\n"
     ]
    }
   ],
   "source": [
    "# STEP 3.4\n",
    "\n",
    "# Change some of the values in the below statement and re-run to see how they \n",
    "# affect performance!\n",
    "mlp2 = MLPClassifier(hidden_layer_sizes=(100,100,100,100,100,), max_iter=50, alpha=1e-4,\n",
    "                    solver='sgd', verbose=10, tol=1e-4, random_state=1,\n",
    "                    learning_rate_init=.1)\n",
    "mlp2.fit(X_train, y_train)\n",
    "print(\"Training set score: %f\" % mlp2.score(X_train, y_train))\n",
    "print(\"Test set score: %f\" % mlp2.score(X_test, y_test))"
   ]
  },
  {
   "cell_type": "code",
   "execution_count": null,
   "id": "be1be94a",
   "metadata": {},
   "outputs": [],
   "source": []
  }
 ],
 "metadata": {
  "kernelspec": {
   "display_name": "Python 3 (ipykernel)",
   "language": "python",
   "name": "python3"
  },
  "language_info": {
   "codemirror_mode": {
    "name": "ipython",
    "version": 3
   },
   "file_extension": ".py",
   "mimetype": "text/x-python",
   "name": "python",
   "nbconvert_exporter": "python",
   "pygments_lexer": "ipython3",
   "version": "3.9.7"
  }
 },
 "nbformat": 4,
 "nbformat_minor": 5
}
