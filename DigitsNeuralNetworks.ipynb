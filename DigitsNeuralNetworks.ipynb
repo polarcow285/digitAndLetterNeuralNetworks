{
 "cells": [
  {
   "cell_type": "code",
   "execution_count": 12,
   "id": "7af60cf2-6f58-49ce-8454-82869bb53403",
   "metadata": {},
   "outputs": [
    {
     "name": "stdout",
     "output_type": "stream",
     "text": [
      "Cloning into 'python-mnist'...\n",
      "remote: Enumerating objects: 246, done.\u001b[K\n",
      "remote: Counting objects: 100% (6/6), done.\u001b[K\n",
      "remote: Compressing objects: 100% (6/6), done.\u001b[K\n",
      "remote: Total 246 (delta 1), reused 2 (delta 0), pack-reused 240\u001b[K\n",
      "Receiving objects: 100% (246/246), 47.14 KiB | 251.00 KiB/s, done.\n",
      "Resolving deltas: 100% (119/119), done.\n",
      "./python-mnist/bin/mnist_get_data.sh: line 9: wget: command not found\n",
      "~/data ~\n",
      "gunzip: can't stat: * (*.gz): No such file or directory\n",
      "~\n",
      "Requirement already satisfied: emnist in ./opt/anaconda3/lib/python3.9/site-packages (0.0)\n",
      "Requirement already satisfied: tqdm in ./opt/anaconda3/lib/python3.9/site-packages (from emnist) (4.62.3)\n",
      "Requirement already satisfied: numpy in ./opt/anaconda3/lib/python3.9/site-packages (from emnist) (1.20.3)\n",
      "Requirement already satisfied: requests in ./opt/anaconda3/lib/python3.9/site-packages (from emnist) (2.26.0)\n",
      "Requirement already satisfied: idna<4,>=2.5 in ./opt/anaconda3/lib/python3.9/site-packages (from requests->emnist) (3.2)\n",
      "Requirement already satisfied: charset-normalizer~=2.0.0 in ./opt/anaconda3/lib/python3.9/site-packages (from requests->emnist) (2.0.4)\n",
      "Requirement already satisfied: urllib3<1.27,>=1.21.1 in ./opt/anaconda3/lib/python3.9/site-packages (from requests->emnist) (1.26.7)\n",
      "Requirement already satisfied: certifi>=2017.4.17 in ./opt/anaconda3/lib/python3.9/site-packages (from requests->emnist) (2021.10.8)\n",
      "Imported the EMNIST libraries we need!\n"
     ]
    }
   ],
   "source": [
    "!git clone https://github.com/sorki/python-mnist\n",
    "!./python-mnist/bin/mnist_get_data.sh\n",
    "!pip3 install emnist\n",
    "from emnist import extract_training_samples\n",
    "\n",
    "print(\"Imported the EMNIST libraries we need!\")"
   ]
  },
  {
   "cell_type": "code",
   "execution_count": 15,
   "id": "66693d20-7850-4862-b601-b1edb263a28f",
   "metadata": {},
   "outputs": [
    {
     "name": "stdout",
     "output_type": "stream",
     "text": [
      "Extracted our samples and divided our training and testing data sets\n"
     ]
    }
   ],
   "source": [
    "X, y = extract_training_samples('digits')\n",
    "# Make sure that every pixel in all of the images is a value between 0 and 1\n",
    "X = X / 255.\n",
    "\n",
    "# Use the first 60000 instances as training and the next 10000 as testing\n",
    "X_train, X_test = X[:60000], X[60000:70000]\n",
    "y_train, y_test = y[:60000], y[60000:70000]\n",
    "\n",
    "# There is one other thing we need to do, we need to\n",
    "# record the number of samples in each dataset and the number of pixels in each image\n",
    "X_train = X_train.reshape(60000,784)\n",
    "X_test = X_test.reshape(10000,784)\n",
    "\n",
    "print(\"Extracted our samples and divided our training and testing data sets\")"
   ]
  },
  {
   "cell_type": "code",
   "execution_count": 28,
   "id": "3a4c6085-38d1-4ceb-b43d-0ef38e59dd76",
   "metadata": {},
   "outputs": [
    {
     "name": "stdout",
     "output_type": "stream",
     "text": [
      "7\n"
     ]
    },
    {
     "data": {
      "text/plain": [
       "<matplotlib.image.AxesImage at 0x7f9c10b94280>"
      ]
     },
     "execution_count": 28,
     "metadata": {},
     "output_type": "execute_result"
    },
    {
     "data": {
      "image/png": "[encoded data removed]",
      "text/plain": [
       "<Figure size 432x288 with 1 Axes>"
      ]
     },
     "metadata": {
      "needs_background": "light"
     },
     "output_type": "display_data"
    }
   ],
   "source": [
    "import matplotlib.pyplot as plt\n",
    "\n",
    "img_index = 90 # <<<<<  You can update this value to look at other images\n",
    "img = X_train[img_index]\n",
    "print(y_train[img_index])\n",
    "plt.imshow(img.reshape((28,28)))"
   ]
  },
  {
   "cell_type": "code",
   "execution_count": 37,
   "id": "49fd6eda-5d84-4047-b785-43fc305ed1f8",
   "metadata": {},
   "outputs": [
    {
     "name": "stdout",
     "output_type": "stream",
     "text": [
      "Created our first MLP network\n"
     ]
    }
   ],
   "source": [
    "# These two lines import the ML libraries we need\n",
    "from sklearn.datasets import fetch_openml\n",
    "from sklearn.neural_network import MLPClassifier\n",
    "\n",
    "# This creates our first MLP with 1 hidden layer with 10 neurons and sets it to run through the data 20 times\n",
    "mlp1 = MLPClassifier(hidden_layer_sizes=(3), max_iter=20, alpha=1e-4,\n",
    "                    solver='sgd', verbose=10, tol=1e-4, random_state=1,\n",
    "                    learning_rate_init=.1)\n",
    "\n",
    "print(\"Created our first MLP network\")"
   ]
  },
  {
   "cell_type": "code",
   "execution_count": 38,
   "id": "be40984f-6523-422f-89f8-5fa313cec88d",
   "metadata": {},
   "outputs": [
    {
     "name": "stdout",
     "output_type": "stream",
     "text": [
      "Iteration 1, loss = 0.96158469\n",
      "Iteration 2, loss = 0.69337156\n",
      "Iteration 3, loss = 0.65977850\n",
      "Iteration 4, loss = 0.64640568\n",
      "Iteration 5, loss = 0.63058011\n",
      "Iteration 6, loss = 0.62244975\n",
      "Iteration 7, loss = 0.61745543\n",
      "Iteration 8, loss = 0.61232298\n",
      "Iteration 9, loss = 0.60826573\n",
      "Iteration 10, loss = 0.60779770\n",
      "Iteration 11, loss = 0.60481618\n",
      "Iteration 12, loss = 0.60776171\n",
      "Iteration 13, loss = 0.60488899\n",
      "Iteration 14, loss = 0.60332799\n",
      "Iteration 15, loss = 0.60235368\n",
      "Iteration 16, loss = 0.60134716\n",
      "Iteration 17, loss = 0.60315630\n",
      "Iteration 18, loss = 0.59902039\n",
      "Iteration 19, loss = 0.60029935\n",
      "Iteration 20, loss = 0.60003383\n",
      "Training set score: 0.825300\n",
      "Test set score: 0.811600\n"
     ]
    },
    {
     "name": "stderr",
     "output_type": "stream",
     "text": [
      "/Users/natalieleung/opt/anaconda3/lib/python3.9/site-packages/sklearn/neural_network/_multilayer_perceptron.py:614: ConvergenceWarning: Stochastic Optimizer: Maximum iterations (20) reached and the optimization hasn't converged yet.\n",
      "  warnings.warn(\n"
     ]
    }
   ],
   "source": [
    "#fit - seeing how it does for the first time\n",
    "mlp1.fit(X_train, y_train)\n",
    "print(\"Training set score: %f\" % mlp1.score(X_train, y_train))\n",
    "print(\"Test set score: %f\" % mlp1.score(X_test, y_test))"
   ]
  },
  {
   "cell_type": "code",
   "execution_count": 39,
   "id": "1d0d9968-9d20-41ce-a3ea-860f56250ef9",
   "metadata": {},
   "outputs": [
    {
     "data": {
      "text/plain": [
       "<matplotlib.image.AxesImage at 0x7f9c2046ef40>"
      ]
     },
     "execution_count": 39,
     "metadata": {},
     "output_type": "execute_result"
    },
    {
     "data": {
      "image/png": "[encoded data removed]",
      "text/plain": [
       "<Figure size 288x288 with 1 Axes>"
      ]
     },
     "metadata": {
      "needs_background": "light"
     },
     "output_type": "display_data"
    }
   ],
   "source": [
    "#figuring out where things went wrong\n",
    "# First let's initialize a list with all the predicted values from the training set\n",
    "y_pred = mlp1.predict(X_test)\n",
    "\n",
    "# Now let's visualize the errors between the predictions and the actual labels using a confusion matrix\n",
    "from sklearn.metrics import confusion_matrix\n",
    "cm = confusion_matrix(y_test, y_pred)\n",
    "plt.matshow(cm)\n",
    "#a brighter color means more elements\n",
    "#The rows are the correct value and the columns are the predicted value\n",
    "#The diagonal line of cells shows when the predicted value is correct. It's good to see a bright line!\n",
    "#If any of the cells off the diagonal are particularly bright, we can investigate more."
   ]
  },
  {
   "cell_type": "code",
   "execution_count": 122,
   "id": "80a95d90-5479-41b7-9ad4-9719eafb02bc",
   "metadata": {},
   "outputs": [
    {
     "name": "stdout",
     "output_type": "stream",
     "text": [
      "machine thought a 8 was a 9 37 times.\n"
     ]
    },
    {
     "data": {
      "image/png": "[encoded data removed]",
      "text/plain": [
       "<Figure size 432x288 with 1 Axes>"
      ]
     },
     "metadata": {
      "needs_background": "light"
     },
     "output_type": "display_data"
    }
   ],
   "source": [
    "# You can change this to any letters that you think the neural network may have confused...\n",
    "predicted_digit = 9\n",
    "actual_digit = 8\n",
    "\n",
    "\n",
    "# This code counts all mistakes for the letters above\n",
    "mistake_list = []\n",
    "#len = .length() of list\n",
    "for i in range(len(y_test)):\n",
    "  if (y_test[i] == actual_digit and y_pred[i] == predicted_digit):\n",
    "    mistake_list.append(i)\n",
    "print(\"machine thought a \" + str(actual_digit) + \" was a \" + str(predicted_digit) + \" \" + str(len(mistake_list)) + \" times.\")\n",
    "\n",
    "# Once we know how many mistakes were made, we can change this to see an image of a particular one\n",
    "mistake_to_show = 1 # <<< e.g., change this to 3 if you want to see the 4th mistake\n",
    "\n",
    "# This code checks that the number mistake you asked for can be shown and if so, displays an image of it\n",
    "if (len(mistake_list)> mistake_to_show):\n",
    "  img = X_test[mistake_list[mistake_to_show]]\n",
    "  plt.imshow(img.reshape((28,28)))\n",
    "else:\n",
    "  print(\"Couldn't show mistake number \" + str(mistake_to_show + 1) + \" because there were only \" + str(len(mistake_list)) + \" mistakes to show!\")"
   ]
  },
  {
   "cell_type": "code",
   "execution_count": 59,
   "id": "a12fbea5-cd69-4a1c-92cc-4d3cefd9be20",
   "metadata": {},
   "outputs": [
    {
     "name": "stdout",
     "output_type": "stream",
     "text": [
      "Iteration 1, loss = 0.26728975\n",
      "Iteration 2, loss = 0.11250480\n",
      "Iteration 3, loss = 0.08903747\n",
      "Iteration 4, loss = 0.07545540\n",
      "Iteration 5, loss = 0.06284995\n",
      "Iteration 6, loss = 0.05893069\n",
      "Iteration 7, loss = 0.05110787\n",
      "Iteration 8, loss = 0.04721978\n",
      "Iteration 9, loss = 0.04283940\n",
      "Iteration 10, loss = 0.03984156\n",
      "Iteration 11, loss = 0.03665117\n",
      "Iteration 12, loss = 0.03426456\n",
      "Iteration 13, loss = 0.03541070\n",
      "Iteration 14, loss = 0.02935781\n",
      "Iteration 15, loss = 0.02957894\n",
      "Iteration 16, loss = 0.02595970\n",
      "Iteration 17, loss = 0.02881173\n",
      "Iteration 18, loss = 0.02605633\n",
      "Iteration 19, loss = 0.02129658\n",
      "Iteration 20, loss = 0.02533512\n",
      "Iteration 21, loss = 0.02951513\n",
      "Iteration 22, loss = 0.02277859\n",
      "Iteration 23, loss = 0.01785060\n",
      "Iteration 24, loss = 0.01904579\n",
      "Iteration 25, loss = 0.01917316\n",
      "Iteration 26, loss = 0.01867210\n",
      "Iteration 27, loss = 0.01587030\n",
      "Iteration 28, loss = 0.01430908\n",
      "Iteration 29, loss = 0.01631996\n",
      "Iteration 30, loss = 0.01762029\n",
      "Iteration 31, loss = 0.01786097\n",
      "Iteration 32, loss = 0.01803410\n",
      "Iteration 33, loss = 0.01712190\n",
      "Iteration 34, loss = 0.01773780\n",
      "Iteration 35, loss = 0.01795472\n",
      "Iteration 36, loss = 0.01542881\n",
      "Iteration 37, loss = 0.02134571\n",
      "Iteration 38, loss = 0.01750611\n",
      "Iteration 39, loss = 0.01865799\n",
      "Training loss did not improve more than tol=0.000100 for 10 consecutive epochs. Stopping.\n",
      "Training set score: 0.994817\n",
      "Test set score: 0.975400\n"
     ]
    }
   ],
   "source": [
    "#make better mlp!\n",
    "mlp2 = MLPClassifier(hidden_layer_sizes=(50, 50), max_iter=50, alpha=1e-4,\n",
    "                    solver='sgd', verbose=10, tol=1e-4, random_state=1,\n",
    "                    learning_rate_init=.1)\n",
    "mlp2.fit(X_train, y_train)\n",
    "print(\"Training set score: %f\" % mlp2.score(X_train, y_train))\n",
    "print(\"Test set score: %f\" % mlp2.score(X_test, y_test))"
   ]
  },
  {
   "cell_type": "code",
   "execution_count": 116,
   "id": "be7444ba-ca6a-48eb-9848-8abe4ecef8c5",
   "metadata": {},
   "outputs": [
    {
     "name": "stdout",
     "output_type": "stream",
     "text": [
      "Requirement already satisfied: opencv-python in ./opt/anaconda3/lib/python3.9/site-packages (4.5.5.62)\n",
      "Requirement already satisfied: numpy>=1.17.3 in ./opt/anaconda3/lib/python3.9/site-packages (from opencv-python) (1.20.3)\n"
     ]
    }
   ],
   "source": [
    "# importing cv2 \n",
    "!pip install opencv-python\n",
    "import cv2\n",
    "  \n",
    "# path\n",
    "path = '/Users/natalieleung/Desktop/five.jpeg'\n",
    "  \n",
    "# Using cv2.imread() method\n",
    "myimg = cv2.imread(path, cv2.IMREAD_GRAYSCALE)\n"
   ]
  },
  {
   "cell_type": "code",
   "execution_count": 117,
   "id": "496a260b-d33a-4e43-83e4-14aa6f401b7e",
   "metadata": {},
   "outputs": [
    {
     "data": {
      "text/plain": [
       "<matplotlib.image.AxesImage at 0x7f9c4052fd00>"
      ]
     },
     "execution_count": 117,
     "metadata": {},
     "output_type": "execute_result"
    },
    {
     "data": {
      "image/png": "[encoded data removed]",
      "text/plain": [
       "<Figure size 432x288 with 1 Axes>"
      ]
     },
     "metadata": {
      "needs_background": "light"
     },
     "output_type": "display_data"
    }
   ],
   "source": [
    "import matplotlib.pyplot as plt\n",
    "plt.imshow(myimg)"
   ]
  },
  {
   "cell_type": "code",
   "execution_count": 118,
   "id": "8e6869f5-506b-4478-9bef-ddc26a0e1667",
   "metadata": {},
   "outputs": [
    {
     "data": {
      "text/plain": [
       "<matplotlib.image.AxesImage at 0x7f9c11133c40>"
      ]
     },
     "execution_count": 118,
     "metadata": {},
     "output_type": "execute_result"
    },
    {
     "data": {
      "image/png": "[encoded data removed]",
      "text/plain": [
       "<Figure size 432x288 with 1 Axes>"
      ]
     },
     "metadata": {
      "needs_background": "light"
     },
     "output_type": "display_data"
    }
   ],
   "source": [
    "#step 1: Apply Gaussian blur filter\n",
    "myimg = cv2.GaussianBlur(myimg, (7,7), 0)\n",
    "\n",
    "#steps 2 and 3: Extract the Region of Interest in the image and center in square\n",
    "points = cv2.findNonZero(myimg)\n",
    "x, y, w, h = cv2.boundingRect(points)\n",
    "if (w > 0 and h > 0):\n",
    "    if w > h:\n",
    "        y = y - (w-h)//2\n",
    "        myimg = myimg[y:y+w, x:x+w]\n",
    "    else:\n",
    "        x = x - (h-w)//2\n",
    "        myimg = myimg[y:y+h, x:x+h]\n",
    "#step 4: Resize and resample to be 28 x 28 pixels\n",
    "myimg = cv2.resize(myimg, (28,28), interpolation = cv2.INTER_CUBIC)\n",
    "\n",
    "#step 5: Normalize pixels and reshape before adding to the new story array\n",
    "myimg = myimg/255\n",
    "myimg = myimg.reshape((28,28))\n",
    "plt.imshow(myimg)"
   ]
  },
  {
   "cell_type": "code",
   "execution_count": 119,
   "id": "a381474c-f2c2-4aa9-89ad-9f368bf26044",
   "metadata": {},
   "outputs": [
    {
     "name": "stdout",
     "output_type": "stream",
     "text": [
      "[5]\n"
     ]
    }
   ],
   "source": [
    "prediction = mlp2.predict(myimg.reshape(1,784))\n",
    "print(prediction)"
   ]
  },
  {
   "cell_type": "code",
   "execution_count": null,
   "id": "87f1546d-5e63-49c9-8f88-d4807c2145a4",
   "metadata": {},
   "outputs": [],
   "source": []
  }
 ],
 "metadata": {
  "kernelspec": {
   "display_name": "Python 3 (ipykernel)",
   "language": "python",
   "name": "python3"
  },
  "language_info": {
   "codemirror_mode": {
    "name": "ipython",
    "version": 3
   },
   "file_extension": ".py",
   "mimetype": "text/x-python",
   "name": "python",
   "nbconvert_exporter": "python",
   "pygments_lexer": "ipython3",
   "version": "3.9.7"
  }
 },
 "nbformat": 4,
 "nbformat_minor": 5
}
